{
    "cells": [
        {
            "metadata": {},
            "cell_type": "code",
            "source": "\nif (!suppressWarnings(require(ibmos2sparkR, quiet=TRUE) && (packageVersion(pkg = \"ibmos2sparkR\") == '0.0.9'))) {\n    library(devtools)\n    devtools::install_url(\"https://github.com/ibm-watson-data-lab/ibmos2spark/archive/1.0.2.zip\", subdir= \"r/sparkr/\", quiet=TRUE)\n}\nlibrary(ibmos2sparkR)\n# @hidden_cell\n\nif (Sys.getenv(\"RUNTIME_ENV_LOCATION_TYPE\") == \"external\") {\n    endpoint_e3738a2a0f584c0bb4e24718f8c46ff4 = \"https://s3-api.us-geo.objectstorage.softlayer.net\"\n} else {\n    endpoint_e3738a2a0f584c0bb4e24718f8c46ff4 = \"https://s3-api.us-geo.objectstorage.service.networklayer.com\"\n}\n\ncredentials <- list(\n    endpoint = endpoint_e3738a2a0f584c0bb4e24718f8c46ff4,\n    serviceId = \"iam-ServiceId-100e4cab-9ff3-44fe-8427-154a4ffad77c\",\n    iamServiceEndpoint = \"https://iam.cloud.ibm.com/oidc/token\",\n    apiKey = \"wguLtNGpB2lIXV5nUedAn6PXB5AS9oLiZ0HDLFbsiMKD\")\n\nconfigurationName <- \"os_e3738a2a0f584c0bb4e24718f8c46ff4_configs\"\ncos <- CloudObjectStorage(sparkContext=sc, credentials=credentials, configurationName=configurationName, cosType=\"bluemix_cos\")\n\ninvisible(sparkR.session(appName = \"SparkSession R\"))\n\ndf.data.1 <- read.df(\n    cos$url(\"gatheringinformation-donotdelete-pr-h58f5dtfoty5df\", \"temps_today.csv\"),\n    source = \"org.apache.spark.sql.execution.datasources.csv.CSVFileFormat\",\n    header = \"true\")\nhead(df.data.1)\n",
            "execution_count": 1,
            "outputs": [
                {
                    "output_type": "stream",
                    "text": "Waiting for a Spark session to start...\nSpark Initialization Done! ApplicationId = app-20210322060127-0000\nKERNEL_ID = bc80cef2-4ee9-4c56-bd7d-03667c657761\n",
                    "name": "stderr"
                },
                {
                    "output_type": "display_data",
                    "data": {
                        "text/plain": "  st1  st2 \n1 23.3 22.1\n2 24.0 23.1\n3 22.1 20.2\n4 19.1 16.8",
                        "text/latex": "\\begin{tabular}{r|ll}\n st1 & st2\\\\\n\\hline\n\t 23.3 & 22.1\\\\\n\t 24.0 & 23.1\\\\\n\t 22.1 & 20.2\\\\\n\t 19.1 & 16.8\\\\\n\\end{tabular}\n",
                        "text/markdown": "\nst1 | st2 | \n|---|---|---|---|\n| 23.3 | 22.1 | \n| 24.0 | 23.1 | \n| 22.1 | 20.2 | \n| 19.1 | 16.8 | \n\n\n",
                        "text/html": "<table>\n<thead><tr><th scope=col>st1</th><th scope=col>st2</th></tr></thead>\n<tbody>\n\t<tr><td>23.3</td><td>22.1</td></tr>\n\t<tr><td>24.0</td><td>23.1</td></tr>\n\t<tr><td>22.1</td><td>20.2</td></tr>\n\t<tr><td>19.1</td><td>16.8</td></tr>\n</tbody>\n</table>\n"
                    },
                    "metadata": {}
                }
            ]
        },
        {
            "metadata": {},
            "cell_type": "code",
            "source": "",
            "execution_count": null,
            "outputs": []
        }
    ],
    "metadata": {
        "kernelspec": {
            "name": "r",
            "display_name": "R 3.6 with Spark",
            "language": "R"
        },
        "language_info": {
            "mimetype": "text/x-r-source",
            "name": "R",
            "pygments_lexer": "r",
            "version": "3.6.3",
            "file_extension": ".r",
            "codemirror_mode": "r"
        }
    },
    "nbformat": 4,
    "nbformat_minor": 1
}